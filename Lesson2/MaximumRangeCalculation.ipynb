{
 "cells": [
  {
   "cell_type": "markdown",
   "metadata": {},
   "source": [
    "## Lesson 2: Radar Principles\n",
    "\n",
    "#### Calculation of the maximum Range of a Radar\n",
    "\n"
   ]
  },
  {
   "cell_type": "code",
   "execution_count": 10,
   "metadata": {},
   "outputs": [],
   "source": [
    "import numpy as np \n",
    "import matplotlib.pyplot as plt\n",
    "import math"
   ]
  },
  {
   "cell_type": "code",
   "execution_count": 12,
   "metadata": {},
   "outputs": [
    {
     "name": "stdout",
     "output_type": "stream",
     "text": [
      "Wavelength is: 0.003896103896103896\n",
      "max. Range is: 149.8278691267949\n"
     ]
    }
   ],
   "source": [
    "# Operating frequency (Hz)\n",
    "fc = 77.0e9\n",
    "\n",
    "# Transmitted power (W)\n",
    "Ps = 3e-3\n",
    "\n",
    "# Antenna Gain (linear)\n",
    "G =  10000\n",
    "\n",
    "# Minimum Detectable Power\n",
    "Pe = 1e-10\n",
    "\n",
    "# RCS of a car\n",
    "RCS = 100\n",
    "\n",
    "# Speed of light\n",
    "c = 3*1e8\n",
    "\n",
    "# TODO: Calculate the wavelength\n",
    "wavelength_lambda = c / fc\n",
    "\n",
    "print(\"Wavelength is: \" + str(wavelength_lambda))\n",
    "\n",
    "# TODO : Measure the Maximum Range a Radar can see. \n",
    "range = pow( Ps * G**2 * wavelength_lambda**2 + RCS / (Pe * (4 * math.pi)**3), 1/4 )\n",
    "\n",
    "print(\"max. Range is: \" + str(range))"
   ]
  }
 ],
 "metadata": {
  "kernelspec": {
   "display_name": "Python 3",
   "language": "python",
   "name": "python3"
  },
  "language_info": {
   "codemirror_mode": {
    "name": "ipython",
    "version": 3
   },
   "file_extension": ".py",
   "mimetype": "text/x-python",
   "name": "python",
   "nbconvert_exporter": "python",
   "pygments_lexer": "ipython3",
   "version": "3.9.6"
  }
 },
 "nbformat": 4,
 "nbformat_minor": 2
}
