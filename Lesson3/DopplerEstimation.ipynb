{
 "cells": [
  {
   "cell_type": "markdown",
   "metadata": {},
   "source": [
    "### Doppler Estimation Exercises\n",
    "\n",
    "Using the following python code sample, complete the TODOs to calculate the velocity in m/s of four targets with the following doppler frequency shifts: [3 KHz, -4.5 KHz, 11 KHz, -3 KHz].\n",
    "\n",
    "You can use the following parameter values:\n",
    "\n",
    "- The radar's operating frequency = 77 GHz\n",
    "- The speed of light c = 3*10^8"
   ]
  },
  {
   "cell_type": "code",
   "execution_count": 3,
   "metadata": {},
   "outputs": [],
   "source": [
    "import numpy as np"
   ]
  },
  {
   "cell_type": "code",
   "execution_count": 9,
   "metadata": {},
   "outputs": [
    {
     "name": "stdout",
     "output_type": "stream",
     "text": [
      "Relative Velocity for the doppler frequeny shift of 3000.0Hz is: 5.8441558441558445m/s\n",
      "Relative Velocity for the doppler frequeny shift of -4500.0Hz is: -8.766233766233766m/s\n",
      "Relative Velocity for the doppler frequeny shift of 11000.0Hz is: 21.428571428571427m/s\n",
      "Relative Velocity for the doppler frequeny shift of -3000.0Hz is: -5.8441558441558445m/s\n"
     ]
    }
   ],
   "source": [
    "# Doppler Velocity Calculation\n",
    "c = 3e8;         #speed of light\n",
    "frequency = 77e9;   #frequency in Hz\n",
    "\n",
    "# TODO: Calculate the wavelength\n",
    "lambdaf = c / frequency\n",
    "\n",
    "# TODO: Define the doppler shifts in Hz using the information from above \n",
    "doppler_freq_shift = np.array([3e3, -4.5e3, 11e3, -3e3])\n",
    "\n",
    "# TODO: Calculate the velocity of the targets  fd = 2*vr/lambda\n",
    "v_r = doppler_freq_shift * lambdaf  / 2\n",
    "\n",
    "\n",
    "# TODO: Display results\n",
    "# Display the calculated range\n",
    "for i in range(0, np.size(doppler_freq_shift)):\n",
    "    print(\"Relative Velocity for the doppler frequeny shift of \" + str(doppler_freq_shift[i]) + \"Hz is: \" + str(v_r[i]) + \"m/s\")"
   ]
  }
 ],
 "metadata": {
  "kernelspec": {
   "display_name": "Python 3",
   "language": "python",
   "name": "python3"
  },
  "language_info": {
   "codemirror_mode": {
    "name": "ipython",
    "version": 3
   },
   "file_extension": ".py",
   "mimetype": "text/x-python",
   "name": "python",
   "nbconvert_exporter": "python",
   "pygments_lexer": "ipython3",
   "version": "3.9.6"
  }
 },
 "nbformat": 4,
 "nbformat_minor": 2
}
