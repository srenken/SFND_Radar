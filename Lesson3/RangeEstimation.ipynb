{
 "cells": [
  {
   "cell_type": "markdown",
   "metadata": {},
   "source": [
    "### Lesson 3: Range-Doppler Estimation\n",
    "\n",
    "#### Range Estimation Exercise\n",
    "\n",
    "Using the following code sample, complete the TODOs to calculate the range in meters of four targets with respective measured beat frequencies [0 MHz, 1.1 MHz, 13 MHz, 24 MHz].\n",
    "\n",
    "You can use the following parameter values:\n",
    "\n",
    "- The radar maximum range = 300m\n",
    "- The range resolution = 1m\n",
    "- The speed of light c = 3*10^8\n",
    "\n",
    "Note: The sweep time can be computed based on the time needed for the signal to travel the maximum range. In general, for an FMCW radar system, the sweep time should be at least 5 to 6 times the round trip time. This example uses a factor of 5.5:\n",
    "\n",
    "$T_{chirp} = 5.5 * 2 * R_{max} / c$"
   ]
  },
  {
   "cell_type": "code",
   "execution_count": 1,
   "metadata": {},
   "outputs": [],
   "source": [
    "import numpy as np \n",
    "import matplotlib.pyplot as plt\n",
    "import math"
   ]
  },
  {
   "cell_type": "code",
   "execution_count": 12,
   "metadata": {},
   "outputs": [
    {
     "name": "stdout",
     "output_type": "stream",
     "text": [
      "Range for beat frequency of 0.0Hz is: 0.0m\n",
      "Range for beat frequency of 1100000.0Hz is: 12.1m\n",
      "Range for beat frequency of 13000000.0Hz is: 143.0m\n",
      "Range for beat frequency of 24000000.0Hz is: 264.0m\n"
     ]
    }
   ],
   "source": [
    "## calculate the range in meters of four targets with respective measured beat frequencies [0 MHz, 1.1 MHz, 13 MHz, 24 MHz]\n",
    "## Give: The radar maximum range = 300m and range resolution = 1m\n",
    "\n",
    "## Range resolution solely dependent on the bandwidth of the chirp B_sweep, but here given as 1m\n",
    "# dist_res = c / (2 * B_sweep)\n",
    "dist_res = 1        # Range resolution 1m\n",
    "\n",
    "# TODO : Find the Bsweep of chirp for 1 m resolution\n",
    "c = 3e8             # speed of light in meters/s\n",
    "B_sweep = c / (2 * dist_res)\n",
    "\n",
    "# TODO : Calculate the chirp time based on the Radar's Max Range\n",
    "range_max = 300     # given max range of the radar\n",
    "Ts = 5.5 * (range_max * 2/c)\n",
    "\n",
    "# TODO : define the frequency shifts \n",
    "beat_freq = np.array([0, 1.1e6, 13e6, 24e6])    # given beat frequencie for all 4 target\n",
    "\n",
    "calculated_range = c * beat_freq * Ts / (2*B_sweep)  # range calc\n",
    "\n",
    "# Display the calculated range\n",
    "for i in range(0, np.size(beat_freq)):\n",
    "    print(\"Range for beat frequency of \" + str(beat_freq[i]) + \"Hz is: \" + str(calculated_range[i]) + \"m\")"
   ]
  }
 ],
 "metadata": {
  "kernelspec": {
   "display_name": "Python 3",
   "language": "python",
   "name": "python3"
  },
  "language_info": {
   "codemirror_mode": {
    "name": "ipython",
    "version": 3
   },
   "file_extension": ".py",
   "mimetype": "text/x-python",
   "name": "python",
   "nbconvert_exporter": "python",
   "pygments_lexer": "ipython3",
   "version": "3.9.6"
  }
 },
 "nbformat": 4,
 "nbformat_minor": 2
}
